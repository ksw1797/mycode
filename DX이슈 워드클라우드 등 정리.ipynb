{
 "cells": [
  {
   "cell_type": "code",
   "execution_count": null,
   "id": "ee6dffc1",
   "metadata": {},
   "outputs": [],
   "source": [
    "import pandas as pd\n",
    "import re\n",
    "\n",
    "\n",
    "\n",
    "\n",
    "len(data)"
   ]
  },
  {
   "cell_type": "code",
   "execution_count": null,
   "id": "e43e99d7",
   "metadata": {},
   "outputs": [],
   "source": [
    "480*4"
   ]
  },
  {
   "cell_type": "code",
   "execution_count": null,
   "id": "a94f92c9",
   "metadata": {},
   "outputs": [],
   "source": [
    "data = pd.read_csv('C:/Users/user/Desktop/Python/crawlingdata.csv')"
   ]
  },
  {
   "cell_type": "code",
   "execution_count": null,
   "id": "53d974f5",
   "metadata": {},
   "outputs": [],
   "source": [
    "data = list(data.value)"
   ]
  },
  {
   "cell_type": "code",
   "execution_count": null,
   "id": "9179cc0b",
   "metadata": {},
   "outputs": [],
   "source": [
    "data1 = data[:480]\n",
    "data2 = data[480:960]\n",
    "data3 = data[960:1440]\n",
    "data4 = data[1440:1920]\n",
    "data5 = data[1920:]"
   ]
  },
  {
   "cell_type": "code",
   "execution_count": null,
   "id": "caf2322d",
   "metadata": {},
   "outputs": [],
   "source": [
    "data = list(data.value)"
   ]
  },
  {
   "cell_type": "code",
   "execution_count": null,
   "id": "6c4d4a24",
   "metadata": {},
   "outputs": [],
   "source": [
    "\n",
    "data_new = ' '.join(data)\n",
    "data_new_1 = re.sub('…|”|“|‘|’|\\.|\\\"|\\'|\\,',' ',data_new)"
   ]
  },
  {
   "cell_type": "code",
   "execution_count": null,
   "id": "e41f1e9c",
   "metadata": {},
   "outputs": [],
   "source": [
    "\n",
    "data_new_1"
   ]
  },
  {
   "cell_type": "code",
   "execution_count": null,
   "id": "07931041",
   "metadata": {},
   "outputs": [],
   "source": [
    "data_new = ' '.join(data)\n",
    "data_new_1 = re.sub('…|”|“|‘|’|\\.|\\\"|\\'|\\,|디지털|AI|전환|기반',' ',data_new)\n",
    "\n",
    "\n",
    "data_new1 = ' '.join(data1)\n",
    "data_new_11 = re.sub('…|”|“|‘|’|\\.|\\\"|\\'|\\,|디지털|AI|전환|기반',' ',data_new1)\n",
    "\n",
    "data_new2 = ' '.join(data2)\n",
    "data_new_12 = re.sub('…|”|“|‘|’|\\.|\\\"|\\'|\\,|디지털|AI|전환|기반',' ',data_new2)\n",
    "\n",
    "data_new3 = ' '.join(data3)\n",
    "data_new_13 = re.sub('…|”|“|‘|’|\\.|\\\"|\\'|\\,|디지털|AI|전환|기반',' ',data_new3)\n",
    "\n",
    "data_new4 = ' '.join(data4)\n",
    "data_new_14 = re.sub('…|”|“|‘|’|\\.|\\\"|\\'|\\,|디지털|AI|전환|기반',' ',data_new4)\n",
    "\n",
    "data_new5 = ' '.join(data5)\n",
    "data_new_15 = re.sub('…|”|“|‘|’|\\.|\\\"|\\'|\\,|디지털|AI|전환|기반',' ',data_new5)"
   ]
  },
  {
   "cell_type": "code",
   "execution_count": null,
   "id": "489c863a",
   "metadata": {},
   "outputs": [],
   "source": [
    "data_new_13"
   ]
  },
  {
   "cell_type": "code",
   "execution_count": null,
   "id": "5a640378",
   "metadata": {},
   "outputs": [],
   "source": [
    "split_data = [item.strip() for item in data_new_1.split()]\n",
    "print(split_data)"
   ]
  },
  {
   "cell_type": "code",
   "execution_count": null,
   "id": "351a490a",
   "metadata": {},
   "outputs": [],
   "source": [
    "split_data1 = [item.strip() for item in data_new_11.split()]\n",
    "\n",
    "\n",
    "split_data2 = [item.strip() for item in data_new_12.split()]\n",
    "\n",
    "\n",
    "split_data3 = [item.strip() for item in data_new_13.split()]\n",
    "\n",
    "\n",
    "split_data4 = [item.strip() for item in data_new_14.split()]\n",
    "\n",
    "\n",
    "split_data5 = [item.strip() for item in data_new_15.split()]\n"
   ]
  },
  {
   "cell_type": "code",
   "execution_count": null,
   "id": "75af2269",
   "metadata": {},
   "outputs": [],
   "source": [
    "\n",
    "\n",
    "filtered_data_1 = [word for word in split_data if not word.startswith('[')]\n",
    "filtered_data_2 = [word for word in filtered_data_1 if not word.startswith('(')]\n"
   ]
  },
  {
   "cell_type": "code",
   "execution_count": null,
   "id": "bdc85fa9",
   "metadata": {},
   "outputs": [],
   "source": [
    "filtered_data_11 = [word for word in split_data1 if not word.startswith('[')]\n",
    "filtered_data_21 = [word for word in filtered_data_11 if not word.startswith('(')]\n",
    "\n",
    "filtered_data_12 = [word for word in split_data2 if not word.startswith('[')]\n",
    "filtered_data_22 = [word for word in filtered_data_12 if not word.startswith('(')]\n",
    "\n",
    "filtered_data_13 = [word for word in split_data3 if not word.startswith('[')]\n",
    "filtered_data_23 = [word for word in filtered_data_13 if not word.startswith('(')]\n",
    "\n",
    "filtered_data_14 = [word for word in split_data4 if not word.startswith('[')]\n",
    "filtered_data_24 = [word for word in filtered_data_14 if not word.startswith('(')]\n",
    "\n",
    "filtered_data_15 = [word for word in split_data5 if not word.startswith('[')]\n",
    "filtered_data_25 = [word for word in filtered_data_15 if not word.startswith('(')]\n",
    "\n"
   ]
  },
  {
   "cell_type": "code",
   "execution_count": null,
   "id": "b2d03e13",
   "metadata": {},
   "outputs": [],
   "source": [
    "dataframe = pd.DataFrame({'value' : filtered_data_2})"
   ]
  },
  {
   "cell_type": "code",
   "execution_count": null,
   "id": "d8af5052",
   "metadata": {},
   "outputs": [],
   "source": [
    "index = dataframe[dataframe['value']=='새글'].index"
   ]
  },
  {
   "cell_type": "code",
   "execution_count": null,
   "id": "ee678e62",
   "metadata": {},
   "outputs": [],
   "source": [
    "dataframe.drop(index)"
   ]
  },
  {
   "cell_type": "code",
   "execution_count": null,
   "id": "61f8e61b",
   "metadata": {},
   "outputs": [],
   "source": [
    "dataframe.reindex"
   ]
  },
  {
   "cell_type": "code",
   "execution_count": null,
   "id": "5de88660",
   "metadata": {},
   "outputs": [],
   "source": [
    "dataframe['value'].value_counts()"
   ]
  },
  {
   "cell_type": "code",
   "execution_count": null,
   "id": "71d7d5db",
   "metadata": {},
   "outputs": [],
   "source": [
    "from collections import Counter"
   ]
  },
  {
   "cell_type": "code",
   "execution_count": null,
   "id": "3c73f75a",
   "metadata": {},
   "outputs": [],
   "source": [
    "count = Counter(list(dataframe['value']))"
   ]
  },
  {
   "cell_type": "code",
   "execution_count": null,
   "id": "342b5395",
   "metadata": {},
   "outputs": [],
   "source": [
    "count1 = Counter(filtered_data_21 )\n",
    "\n",
    "count2 = Counter(filtered_data_22 )\n",
    "\n",
    "count3 = Counter(filtered_data_23 )\n",
    "\n",
    "count4 = Counter(filtered_data_24 )\n",
    "\n",
    "count5 = Counter(filtered_data_25 )"
   ]
  },
  {
   "cell_type": "code",
   "execution_count": null,
   "id": "fb23ea44",
   "metadata": {},
   "outputs": [],
   "source": [
    "words = dict(count.most_common())"
   ]
  },
  {
   "cell_type": "code",
   "execution_count": null,
   "id": "5eede566",
   "metadata": {},
   "outputs": [],
   "source": [
    "words1 = dict(count1.most_common())\n",
    "\n",
    "words2 = dict(count2.most_common())\n",
    "\n",
    "words3 = dict(count3.most_common())\n",
    "\n",
    "words4 = dict(count4.most_common())\n",
    "\n",
    "words5 = dict(count5.most_common())"
   ]
  },
  {
   "cell_type": "code",
   "execution_count": null,
   "id": "f8070276",
   "metadata": {},
   "outputs": [],
   "source": [
    "words1"
   ]
  },
  {
   "cell_type": "code",
   "execution_count": null,
   "id": "eceb00b4",
   "metadata": {},
   "outputs": [],
   "source": [
    "#! pip install wordcloud"
   ]
  },
  {
   "cell_type": "code",
   "execution_count": null,
   "id": "96d98f9d",
   "metadata": {},
   "outputs": [],
   "source": [
    "from wordcloud import WordCloud \n",
    "\n",
    "import matplotlib.pyplot as plt\n",
    "\n",
    "import nltk\n",
    "from nltk.corpus import stopwords\n",
    "\n",
    "import matplotlib\n",
    "from IPython.display import set_matplotlib_formats\n",
    "matplotlib.rc('font',family = 'Malgun Gothic')\n",
    "\n",
    "set_matplotlib_formats('retina')\n",
    "\n",
    "matplotlib.rc('axes',unicode_minus = False)"
   ]
  },
  {
   "cell_type": "code",
   "execution_count": null,
   "id": "b3860baa",
   "metadata": {},
   "outputs": [],
   "source": [
    "wordcloud = WordCloud(font_path = 'C:/Windows/Fonts/malgun.ttf', background_color='white',colormap = \"Accent_r\",\n",
    "                      width=1500, height=1000).generate_from_frequencies(words)\n",
    "\n",
    "plt.imshow(wordcloud)\n",
    "plt.axis('off')\n",
    "plt.show()"
   ]
  },
  {
   "cell_type": "code",
   "execution_count": null,
   "id": "1389fa37",
   "metadata": {},
   "outputs": [],
   "source": [
    "####  가장 최신 23년 3월~"
   ]
  },
  {
   "cell_type": "code",
   "execution_count": null,
   "id": "035d2382",
   "metadata": {},
   "outputs": [],
   "source": [
    "wordcloud = WordCloud(font_path = 'C:/Windows/Fonts/malgun.ttf', background_color='white',colormap = \"Accent_r\",\n",
    "                      width=1500, height=1000).generate_from_frequencies(words1)\n",
    "plt.imshow(wordcloud)\n",
    "plt.axis('off')\n",
    "plt.show()"
   ]
  },
  {
   "cell_type": "code",
   "execution_count": null,
   "id": "0d69964e",
   "metadata": {},
   "outputs": [],
   "source": [
    "####   2번째 최신 22년 8월~ 23년 3월"
   ]
  },
  {
   "cell_type": "code",
   "execution_count": null,
   "id": "77dc40c0",
   "metadata": {},
   "outputs": [],
   "source": [
    "wordcloud = WordCloud(font_path = 'C:/Windows/Fonts/malgun.ttf', background_color='white',colormap = \"Accent_r\",\n",
    "                      width=1500, height=1000).generate_from_frequencies(words2)\n",
    "plt.imshow(wordcloud)\n",
    "plt.axis('off')\n",
    "plt.show()"
   ]
  },
  {
   "cell_type": "code",
   "execution_count": null,
   "id": "8a9597a1",
   "metadata": {},
   "outputs": [],
   "source": [
    "####   22년 5월~ 22년 8월"
   ]
  },
  {
   "cell_type": "code",
   "execution_count": null,
   "id": "ed931fa2",
   "metadata": {},
   "outputs": [],
   "source": [
    "wordcloud = WordCloud(font_path = 'C:/Windows/Fonts/malgun.ttf', background_color='white',colormap = \"Accent_r\",\n",
    "                      width=1500, height=1000).generate_from_frequencies(words3)\n",
    "plt.imshow(wordcloud)\n",
    "plt.axis('off')\n",
    "plt.show()"
   ]
  },
  {
   "cell_type": "code",
   "execution_count": null,
   "id": "41bce407",
   "metadata": {},
   "outputs": [],
   "source": [
    "####   22년 2월~ 22년 5월"
   ]
  },
  {
   "cell_type": "code",
   "execution_count": null,
   "id": "8eab087e",
   "metadata": {},
   "outputs": [],
   "source": [
    "wordcloud = WordCloud(font_path = 'C:/Windows/Fonts/malgun.ttf', background_color='white',colormap = \"Accent_r\",\n",
    "                      width=1500, height=1000).generate_from_frequencies(words4)\n",
    "plt.imshow(wordcloud)\n",
    "plt.axis('off')\n",
    "plt.show()"
   ]
  },
  {
   "cell_type": "code",
   "execution_count": null,
   "id": "2df8e10a",
   "metadata": {},
   "outputs": [],
   "source": [
    "####   21년 11월~ 22년 2월"
   ]
  },
  {
   "cell_type": "code",
   "execution_count": null,
   "id": "98f21ed2",
   "metadata": {},
   "outputs": [],
   "source": [
    "wordcloud = WordCloud(font_path = 'C:/Windows/Fonts/malgun.ttf', background_color='white',colormap = \"Accent_r\",\n",
    "                      width=1500, height=1000).generate_from_frequencies(words5)\n",
    "plt.imshow(wordcloud)\n",
    "plt.axis('off')\n",
    "plt.show()"
   ]
  },
  {
   "cell_type": "code",
   "execution_count": null,
   "id": "ed2b0883",
   "metadata": {},
   "outputs": [],
   "source": [
    "type(words)"
   ]
  },
  {
   "cell_type": "code",
   "execution_count": null,
   "id": "b3aff5df",
   "metadata": {},
   "outputs": [],
   "source": [
    "list(words.keys())[:40]  #['플랫폼', '메타버스' ,'블록체인', '클라우드','로봇','정부','NFT','IoT','협력']"
   ]
  },
  {
   "cell_type": "code",
   "execution_count": null,
   "id": "cb31a34d",
   "metadata": {},
   "outputs": [],
   "source": [
    "keyword = ['플랫폼', '메타버스' ,'블록체인', '클라우드','로봇','정부','IoT','협력']\n",
    "word = [words5,words4,words3,words2,words1]"
   ]
  },
  {
   "cell_type": "code",
   "execution_count": null,
   "id": "dd84bb72",
   "metadata": {},
   "outputs": [],
   "source": [
    "b=[]\n",
    "for i in word:\n",
    "    a=[]\n",
    "    for j in range(len(keyword)):\n",
    "        a.append(i[keyword[j]])\n",
    "    b.append(a)\n"
   ]
  },
  {
   "cell_type": "code",
   "execution_count": null,
   "id": "a31ef3a4",
   "metadata": {},
   "outputs": [],
   "source": [
    "np.transpose(b)"
   ]
  },
  {
   "cell_type": "code",
   "execution_count": null,
   "id": "88553138",
   "metadata": {},
   "outputs": [],
   "source": [
    "x_val = [1,2,3,4,5]\n"
   ]
  },
  {
   "cell_type": "code",
   "execution_count": null,
   "id": "5d556d95",
   "metadata": {},
   "outputs": [],
   "source": [
    "expect = []\n",
    "for i in range(len(keyword)):\n",
    "    expect.append(np.mean(np.transpose(b)[i]))"
   ]
  },
  {
   "cell_type": "code",
   "execution_count": null,
   "id": "2134b71c",
   "metadata": {},
   "outputs": [],
   "source": [
    "np.transpose(b)[1]"
   ]
  },
  {
   "cell_type": "code",
   "execution_count": null,
   "id": "78353dc6",
   "metadata": {},
   "outputs": [],
   "source": [
    "import pandas as pd\n",
    "import numpy as np\n",
    "import matplotlib.pyplot as plt\n",
    "import seaborn as sns\n",
    "%matplotlib inline"
   ]
  },
  {
   "cell_type": "code",
   "execution_count": null,
   "id": "43dd0b2f",
   "metadata": {},
   "outputs": [],
   "source": [
    "## keyword = ['플랫폼', '메타버스' ,'블록체인', '클라우드','로봇','정부','IoT','협력']"
   ]
  },
  {
   "cell_type": "code",
   "execution_count": null,
   "id": "121cc433",
   "metadata": {},
   "outputs": [],
   "source": [
    "plt.figure(figsize=(12,8))\n",
    "\n",
    "plt.subplot(421)\n",
    "plt.plot(x_val,  np.transpose(b)[0] ,color = 'black',  label = '플랫폼')\n",
    "plt.axhline(expect[0],c='r', ls ='--')\n",
    "plt.legend()\n",
    "plt.title('플랫폼 빈도 변화')\n",
    "\n",
    "plt.subplot(422)\n",
    "plt.plot(x_val , np.transpose(b)[1] ,color = 'black',   label = '메타버스')\n",
    "plt.axhline(expect[1],c='r', ls ='--')\n",
    "plt.legend()\n",
    "plt.title('메타버스 빈도 변화')\n",
    "\n",
    "plt.subplot(423)\n",
    "plt.plot(x_val , np.transpose(b)[2] ,color = 'black',   label = '블록체인')\n",
    "plt.axhline(expect[2],c='r', ls ='--')\n",
    "plt.legend()\n",
    "plt.title('블록체인 빈도 변화')\n",
    "\n",
    "plt.subplot(424)\n",
    "plt.plot(x_val , np.transpose(b)[3] ,color = 'black',   label = '클라우드')\n",
    "plt.axhline(expect[3],c='r', ls ='--')\n",
    "plt.legend()\n",
    "plt.title('클라우드 빈도 변화')\n",
    "\n",
    "plt.subplot(425)\n",
    "plt.plot(x_val , np.transpose(b)[4]  ,color = 'black',  label = '로봇')\n",
    "plt.axhline(expect[4],c='r', ls ='--')\n",
    "plt.legend()\n",
    "plt.title('로봇 빈도 변화')\n",
    "\n",
    "plt.subplot(426)\n",
    "plt.plot(x_val , np.transpose(b)[5]  ,color = 'black',  label = '정부')\n",
    "plt.axhline(expect[5],c='r', ls ='--')\n",
    "plt.legend()\n",
    "plt.title('정부 빈도 변화')\n",
    "\n",
    "plt.subplot(427)\n",
    "plt.plot(x_val , np.transpose(b)[6]  ,color = 'black',  label = 'IoT')\n",
    "plt.axhline(expect[6],c='r', ls ='--')\n",
    "plt.legend()\n",
    "plt.title('IoT 빈도 변화')\n",
    "\n",
    "plt.subplot(428)\n",
    "plt.plot(x_val , np.transpose(b)[7]  ,color = 'black',  label = '협력')\n",
    "plt.axhline(expect[7],c='r', ls ='--')\n",
    "plt.legend()\n",
    "plt.title('협력 빈도 변화')\n",
    "\n",
    "plt.show()"
   ]
  },
  {
   "cell_type": "code",
   "execution_count": null,
   "id": "137edff1",
   "metadata": {},
   "outputs": [],
   "source": [
    "np.transpose(b)[0]"
   ]
  },
  {
   "cell_type": "code",
   "execution_count": null,
   "id": "0c930878",
   "metadata": {},
   "outputs": [],
   "source": []
  },
  {
   "cell_type": "code",
   "execution_count": null,
   "id": "a3c5f28f",
   "metadata": {},
   "outputs": [],
   "source": [
    "np.transpose(b)"
   ]
  },
  {
   "cell_type": "code",
   "execution_count": null,
   "id": "bc3ce0bb",
   "metadata": {},
   "outputs": [],
   "source": []
  },
  {
   "cell_type": "code",
   "execution_count": null,
   "id": "c0f16d4d",
   "metadata": {},
   "outputs": [],
   "source": []
  }
 ],
 "metadata": {
  "kernelspec": {
   "display_name": "Python 3 (ipykernel)",
   "language": "python",
   "name": "python3"
  },
  "language_info": {
   "codemirror_mode": {
    "name": "ipython",
    "version": 3
   },
   "file_extension": ".py",
   "mimetype": "text/x-python",
   "name": "python",
   "nbconvert_exporter": "python",
   "pygments_lexer": "ipython3",
   "version": "3.10.9"
  }
 },
 "nbformat": 4,
 "nbformat_minor": 5
}
