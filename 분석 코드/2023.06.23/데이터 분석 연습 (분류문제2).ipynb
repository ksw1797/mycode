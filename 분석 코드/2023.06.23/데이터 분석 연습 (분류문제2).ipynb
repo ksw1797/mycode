{
 "cells": [
  {
   "cell_type": "code",
   "execution_count": 23,
   "id": "7907908a",
   "metadata": {},
   "outputs": [],
   "source": [
    "import pandas as pd\n",
    "import numpy as np\n",
    "import sklearn"
   ]
  },
  {
   "cell_type": "code",
   "execution_count": 24,
   "id": "6d240967",
   "metadata": {},
   "outputs": [],
   "source": [
    "train = pd.read_csv('C:/Users/user/Desktop/Python/train.csv')\n",
    "test = pd.read_csv('C:/Users/user/Desktop/Python/test.csv')"
   ]
  },
  {
   "cell_type": "code",
   "execution_count": 25,
   "id": "8acd6cea",
   "metadata": {},
   "outputs": [
    {
     "name": "stdout",
     "output_type": "stream",
     "text": [
      "(6665, 11) (2154, 10)\n"
     ]
    }
   ],
   "source": [
    "print(train.shape,test.shape)"
   ]
  },
  {
   "cell_type": "code",
   "execution_count": 26,
   "id": "a3d67aec",
   "metadata": {},
   "outputs": [
    {
     "name": "stdout",
     "output_type": "stream",
     "text": [
      "ID                 0\n",
      "Gender             0\n",
      "Ever_Married       0\n",
      "Age                0\n",
      "Graduated          0\n",
      "Profession         0\n",
      "Work_Experience    0\n",
      "Spending_Score     0\n",
      "Family_Size        0\n",
      "Var_1              0\n",
      "dtype: int64\n"
     ]
    }
   ],
   "source": [
    "print(test.isna().sum())"
   ]
  },
  {
   "cell_type": "code",
   "execution_count": 27,
   "id": "d85e1ea7",
   "metadata": {},
   "outputs": [
    {
     "name": "stdout",
     "output_type": "stream",
     "text": [
      "<class 'pandas.core.frame.DataFrame'>\n",
      "RangeIndex: 6665 entries, 0 to 6664\n",
      "Data columns (total 11 columns):\n",
      " #   Column           Non-Null Count  Dtype  \n",
      "---  ------           --------------  -----  \n",
      " 0   ID               6665 non-null   int64  \n",
      " 1   Gender           6665 non-null   object \n",
      " 2   Ever_Married     6665 non-null   object \n",
      " 3   Age              6665 non-null   int64  \n",
      " 4   Graduated        6665 non-null   object \n",
      " 5   Profession       6665 non-null   object \n",
      " 6   Work_Experience  6665 non-null   float64\n",
      " 7   Spending_Score   6665 non-null   object \n",
      " 8   Family_Size      6665 non-null   float64\n",
      " 9   Var_1            6665 non-null   object \n",
      " 10  Segmentation     6665 non-null   int64  \n",
      "dtypes: float64(2), int64(3), object(6)\n",
      "memory usage: 572.9+ KB\n",
      "None\n"
     ]
    }
   ],
   "source": [
    "print(train.info())"
   ]
  },
  {
   "cell_type": "code",
   "execution_count": 28,
   "id": "2cc268bc",
   "metadata": {},
   "outputs": [
    {
     "name": "stdout",
     "output_type": "stream",
     "text": [
      "       Gender Ever_Married Graduated Profession Spending_Score  Var_1\n",
      "count    6665         6665      6665       6665           6665   6665\n",
      "unique      2            2         2          9              3      7\n",
      "top      Male          Yes       Yes     Artist            Low  Cat_6\n",
      "freq     3677         3944      4249       2192           3999   4476\n"
     ]
    }
   ],
   "source": [
    "print(train.describe(include = 'object'))"
   ]
  },
  {
   "cell_type": "code",
   "execution_count": 29,
   "id": "fdd8b88c",
   "metadata": {},
   "outputs": [
    {
     "name": "stdout",
     "output_type": "stream",
     "text": [
      "       Gender Ever_Married Graduated Profession Spending_Score  Var_1\n",
      "count    2154         2154      2154       2154           2154   2154\n",
      "unique      2            2         2          9              3      7\n",
      "top      Male          Yes       Yes     Artist            Low  Cat_6\n",
      "freq     1184         1272      1345        696           1326   1421\n"
     ]
    }
   ],
   "source": [
    "print(test.describe(include = 'object'))"
   ]
  },
  {
   "cell_type": "code",
   "execution_count": 30,
   "id": "b6d5ad23",
   "metadata": {},
   "outputs": [
    {
     "name": "stdout",
     "output_type": "stream",
     "text": [
      "                 ID          Age  Work_Experience  Family_Size  Segmentation\n",
      "count    6665.00000  6665.000000      6665.000000  6665.000000   6665.000000\n",
      "mean   463519.84096    43.536084         2.629107     2.841110      2.542836\n",
      "std      2566.43174    16.524054         3.405365     1.524743      1.122723\n",
      "min    458982.00000    18.000000         0.000000     1.000000      1.000000\n",
      "25%    461349.00000    31.000000         0.000000     2.000000      2.000000\n",
      "50%    463575.00000    41.000000         1.000000     2.000000      3.000000\n",
      "75%    465741.00000    53.000000         4.000000     4.000000      4.000000\n",
      "max    467974.00000    89.000000        14.000000     9.000000      4.000000\n"
     ]
    }
   ],
   "source": [
    "print(train.describe(exclude = 'object'))"
   ]
  },
  {
   "cell_type": "code",
   "execution_count": 31,
   "id": "7364bbf8",
   "metadata": {},
   "outputs": [
    {
     "name": "stdout",
     "output_type": "stream",
     "text": [
      "                  ID          Age  Work_Experience  Family_Size\n",
      "count    2154.000000  2154.000000      2154.000000  2154.000000\n",
      "mean   463496.744661    43.461467         2.551532     2.837047\n",
      "std      2591.465156    16.761895         3.344917     1.566872\n",
      "min    458989.000000    18.000000         0.000000     1.000000\n",
      "25%    461282.250000    30.000000         0.000000     2.000000\n",
      "50%    463535.000000    41.000000         1.000000     2.000000\n",
      "75%    465705.750000    52.000000         4.000000     4.000000\n",
      "max    467968.000000    89.000000        14.000000     9.000000\n"
     ]
    }
   ],
   "source": [
    "print(test.describe(exclude = 'object'))"
   ]
  },
  {
   "cell_type": "code",
   "execution_count": 32,
   "id": "839888ff",
   "metadata": {},
   "outputs": [],
   "source": [
    "target = train['Segmentation']\n",
    "train.drop(['ID','Segmentation'],axis = 1 , inplace = True)\n",
    "test.drop('ID', axis = 1, inplace = True)"
   ]
  },
  {
   "cell_type": "code",
   "execution_count": 33,
   "id": "521dc41f",
   "metadata": {},
   "outputs": [],
   "source": [
    "train = pd.get_dummies(train)"
   ]
  },
  {
   "cell_type": "code",
   "execution_count": 34,
   "id": "ea0ece2b",
   "metadata": {},
   "outputs": [
    {
     "data": {
      "text/plain": [
       "0       4\n",
       "1       2\n",
       "2       2\n",
       "3       3\n",
       "4       3\n",
       "       ..\n",
       "6660    2\n",
       "6661    4\n",
       "6662    4\n",
       "6663    2\n",
       "6664    2\n",
       "Name: Segmentation, Length: 6665, dtype: int64"
      ]
     },
     "execution_count": 34,
     "metadata": {},
     "output_type": "execute_result"
    }
   ],
   "source": [
    "target"
   ]
  },
  {
   "cell_type": "code",
   "execution_count": 38,
   "id": "821e1b16",
   "metadata": {},
   "outputs": [
    {
     "name": "stdout",
     "output_type": "stream",
     "text": [
      "(5332, 28) (1333, 28) (5332,) (1333,)\n"
     ]
    }
   ],
   "source": [
    "from sklearn.model_selection import train_test_split\n",
    "\n",
    "X_train , X_val , Y_train , Y_val = train_test_split(train,target , test_size = 0.2 , random_state = 123)\n",
    "print(X_train.shape,X_val.shape,Y_train.shape,Y_val.shape)"
   ]
  },
  {
   "cell_type": "code",
   "execution_count": 39,
   "id": "5a3287f4",
   "metadata": {},
   "outputs": [],
   "source": [
    "## 스케일링은 안해도되고"
   ]
  },
  {
   "cell_type": "code",
   "execution_count": 45,
   "id": "dc8d5845",
   "metadata": {},
   "outputs": [],
   "source": [
    "from sklearn.ensemble import RandomForestClassifier\n",
    "\n",
    "\n",
    "model_RFC = RandomForestClassifier()\n",
    "model_RFC.fit(X_train,Y_train)\n",
    "pred = model_RFC.predict(X_val)"
   ]
  },
  {
   "cell_type": "code",
   "execution_count": 59,
   "id": "7e0db227",
   "metadata": {},
   "outputs": [
    {
     "data": {
      "text/plain": [
       "0.4809884817939732"
      ]
     },
     "execution_count": 59,
     "metadata": {},
     "output_type": "execute_result"
    }
   ],
   "source": [
    "from sklearn.metrics import f1_score\n",
    "\n",
    "score = f1_score(Y_val,pred , average =  'macro')\n",
    "score"
   ]
  },
  {
   "cell_type": "code",
   "execution_count": 60,
   "id": "fae28b38",
   "metadata": {},
   "outputs": [],
   "source": [
    "# 하이퍼파라미터최적화"
   ]
  },
  {
   "cell_type": "code",
   "execution_count": 63,
   "id": "aaf76fff",
   "metadata": {},
   "outputs": [],
   "source": [
    "test= pd.get_dummies(test)"
   ]
  },
  {
   "cell_type": "code",
   "execution_count": 67,
   "id": "e6b07301",
   "metadata": {},
   "outputs": [],
   "source": [
    "result = model_RFC.predict(test)"
   ]
  },
  {
   "cell_type": "code",
   "execution_count": 68,
   "id": "45e91750",
   "metadata": {},
   "outputs": [
    {
     "data": {
      "text/plain": [
       "array([2, 3, 3, ..., 2, 3, 4], dtype=int64)"
      ]
     },
     "execution_count": 68,
     "metadata": {},
     "output_type": "execute_result"
    }
   ],
   "source": [
    "result"
   ]
  },
  {
   "cell_type": "code",
   "execution_count": 69,
   "id": "855e982c",
   "metadata": {},
   "outputs": [],
   "source": [
    "test2 = pd.read_csv('C:/Users/user/Desktop/Python/test.csv')\n",
    "ID = test2['ID']"
   ]
  },
  {
   "cell_type": "code",
   "execution_count": 71,
   "id": "42140b5f",
   "metadata": {},
   "outputs": [],
   "source": [
    "\n",
    "submission = pd.DataFrame({'ID' : ID, 'Segmentation' : result})"
   ]
  },
  {
   "cell_type": "code",
   "execution_count": 74,
   "id": "718c38b0",
   "metadata": {},
   "outputs": [],
   "source": [
    "submission.to_csv('submission1.csv',index=False)"
   ]
  },
  {
   "cell_type": "code",
   "execution_count": 75,
   "id": "13089e8c",
   "metadata": {},
   "outputs": [
    {
     "data": {
      "text/html": [
       "<div>\n",
       "<style scoped>\n",
       "    .dataframe tbody tr th:only-of-type {\n",
       "        vertical-align: middle;\n",
       "    }\n",
       "\n",
       "    .dataframe tbody tr th {\n",
       "        vertical-align: top;\n",
       "    }\n",
       "\n",
       "    .dataframe thead th {\n",
       "        text-align: right;\n",
       "    }\n",
       "</style>\n",
       "<table border=\"1\" class=\"dataframe\">\n",
       "  <thead>\n",
       "    <tr style=\"text-align: right;\">\n",
       "      <th></th>\n",
       "      <th>ID</th>\n",
       "      <th>Segmentation</th>\n",
       "    </tr>\n",
       "  </thead>\n",
       "  <tbody>\n",
       "    <tr>\n",
       "      <th>0</th>\n",
       "      <td>458989</td>\n",
       "      <td>2</td>\n",
       "    </tr>\n",
       "    <tr>\n",
       "      <th>1</th>\n",
       "      <td>458994</td>\n",
       "      <td>3</td>\n",
       "    </tr>\n",
       "    <tr>\n",
       "      <th>2</th>\n",
       "      <td>459000</td>\n",
       "      <td>3</td>\n",
       "    </tr>\n",
       "    <tr>\n",
       "      <th>3</th>\n",
       "      <td>459003</td>\n",
       "      <td>3</td>\n",
       "    </tr>\n",
       "    <tr>\n",
       "      <th>4</th>\n",
       "      <td>459005</td>\n",
       "      <td>1</td>\n",
       "    </tr>\n",
       "    <tr>\n",
       "      <th>...</th>\n",
       "      <td>...</td>\n",
       "      <td>...</td>\n",
       "    </tr>\n",
       "    <tr>\n",
       "      <th>2149</th>\n",
       "      <td>467950</td>\n",
       "      <td>1</td>\n",
       "    </tr>\n",
       "    <tr>\n",
       "      <th>2150</th>\n",
       "      <td>467954</td>\n",
       "      <td>4</td>\n",
       "    </tr>\n",
       "    <tr>\n",
       "      <th>2151</th>\n",
       "      <td>467958</td>\n",
       "      <td>2</td>\n",
       "    </tr>\n",
       "    <tr>\n",
       "      <th>2152</th>\n",
       "      <td>467961</td>\n",
       "      <td>3</td>\n",
       "    </tr>\n",
       "    <tr>\n",
       "      <th>2153</th>\n",
       "      <td>467968</td>\n",
       "      <td>4</td>\n",
       "    </tr>\n",
       "  </tbody>\n",
       "</table>\n",
       "<p>2154 rows × 2 columns</p>\n",
       "</div>"
      ],
      "text/plain": [
       "          ID  Segmentation\n",
       "0     458989             2\n",
       "1     458994             3\n",
       "2     459000             3\n",
       "3     459003             3\n",
       "4     459005             1\n",
       "...      ...           ...\n",
       "2149  467950             1\n",
       "2150  467954             4\n",
       "2151  467958             2\n",
       "2152  467961             3\n",
       "2153  467968             4\n",
       "\n",
       "[2154 rows x 2 columns]"
      ]
     },
     "execution_count": 75,
     "metadata": {},
     "output_type": "execute_result"
    }
   ],
   "source": [
    "submission"
   ]
  },
  {
   "cell_type": "code",
   "execution_count": null,
   "id": "2d1ccd0c",
   "metadata": {},
   "outputs": [],
   "source": []
  }
 ],
 "metadata": {
  "kernelspec": {
   "display_name": "Python 3 (ipykernel)",
   "language": "python",
   "name": "python3"
  },
  "language_info": {
   "codemirror_mode": {
    "name": "ipython",
    "version": 3
   },
   "file_extension": ".py",
   "mimetype": "text/x-python",
   "name": "python",
   "nbconvert_exporter": "python",
   "pygments_lexer": "ipython3",
   "version": "3.10.9"
  }
 },
 "nbformat": 4,
 "nbformat_minor": 5
}
