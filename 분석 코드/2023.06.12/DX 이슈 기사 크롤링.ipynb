{
 "cells": [
  {
   "cell_type": "code",
   "execution_count": null,
   "id": "29190be4",
   "metadata": {
    "scrolled": true
   },
   "outputs": [],
   "source": [
    "# !pip install selenium"
   ]
  },
  {
   "cell_type": "code",
   "execution_count": null,
   "id": "3e6cd06e",
   "metadata": {},
   "outputs": [],
   "source": [
    "# ! pip install webdriver-manager\n"
   ]
  },
  {
   "cell_type": "code",
   "execution_count": null,
   "id": "c16872a5",
   "metadata": {},
   "outputs": [],
   "source": [
    "import requests\n",
    "import pandas as pd\n",
    "import numpy as np\n",
    "from bs4 import BeautifulSoup\n",
    "from time import sleep\n",
    "import pandas as pd\n",
    "import re\n",
    "\n",
    "# Selenium\n",
    "from selenium import webdriver\n",
    "from selenium.webdriver.chrome.options import Options\n",
    "from webdriver_manager.chrome import ChromeDriverManager\n",
    "from urllib.request import urlopen  \n"
   ]
  },
  {
   "cell_type": "markdown",
   "id": "4d14a1c1",
   "metadata": {},
   "source": [
    "# 시행착오"
   ]
  },
  {
   "cell_type": "code",
   "execution_count": null,
   "id": "a636531b",
   "metadata": {},
   "outputs": [],
   "source": [
    "# url 입력Z\n",
    "url = 'https://kpcdigital.modoo.at/?link=dprleu4q&page='+str(2)\n",
    "# url 불러오기\n",
    "res = requests.get(url)\n",
    "\n",
    "#데이터 값 출력해보기\n",
    "soup = BeautifulSoup(res.text, 'html.parser')"
   ]
  },
  {
   "cell_type": "code",
   "execution_count": null,
   "id": "06adb0e9",
   "metadata": {},
   "outputs": [],
   "source": [
    "soup"
   ]
  },
  {
   "cell_type": "code",
   "execution_count": null,
   "id": "4fbbd6a6",
   "metadata": {},
   "outputs": [],
   "source": [
    "data = soup.select('.tit')"
   ]
  },
  {
   "cell_type": "code",
   "execution_count": null,
   "id": "cf9dcb1d",
   "metadata": {},
   "outputs": [],
   "source": [
    "for i in range(10):\n",
    "    url = 'https://kpcdigital.modoo.at/?link=dprleu4q&page='+str(i)\n",
    "    print(url)"
   ]
  },
  {
   "cell_type": "code",
   "execution_count": null,
   "id": "ce0d379f",
   "metadata": {},
   "outputs": [],
   "source": [
    "url = 'https://search.naver.com/search.naver?where=nexearch&sm=top_hty&fbm=0&ie=utf8&query=%EB%B8%94%EB%9E%99%ED%95%91%ED%81%AC'\n",
    "\n",
    "# url 불러오기\n",
    "res = requests.get(url)\n",
    "\n",
    "#데이터 값 출력해보기\n",
    "soup = BeautifulSoup(res.text, 'html.parser')\n",
    "\n",
    "\n"
   ]
  },
  {
   "cell_type": "code",
   "execution_count": null,
   "id": "234270f5",
   "metadata": {},
   "outputs": [],
   "source": [
    "data = soup.select('.api_txt_lines.dsc_txt_wrap')\n"
   ]
  },
  {
   "cell_type": "code",
   "execution_count": null,
   "id": "3420b8c4",
   "metadata": {
    "scrolled": false
   },
   "outputs": [],
   "source": [
    "data"
   ]
  },
  {
   "cell_type": "code",
   "execution_count": null,
   "id": "cfe3aa70",
   "metadata": {},
   "outputs": [],
   "source": [
    "header = {'User-Agent' : 'Mozilla/5.0 (Windows NT 10.0; Win64; x64) AppleWebKit/537.36 (KHTML, like Gecko) Chrome/114.0.0.0 Safari/537.36'\n",
    "}\n",
    "url = \"https://news.naver.com/\"\n",
    "\n",
    "r = requests.get(url, headers = header)\n",
    "\n",
    "soup = BeautifulSoup(r.text, \"html.parser\")\n",
    "\n",
    "\n",
    "\n"
   ]
  },
  {
   "cell_type": "code",
   "execution_count": null,
   "id": "293d9dc9",
   "metadata": {},
   "outputs": [],
   "source": [
    "soup"
   ]
  },
  {
   "cell_type": "code",
   "execution_count": null,
   "id": "c5474cd5",
   "metadata": {},
   "outputs": [],
   "source": [
    "items = soup.select('.cjs_t')"
   ]
  },
  {
   "cell_type": "code",
   "execution_count": null,
   "id": "6e10bd5b",
   "metadata": {},
   "outputs": [],
   "source": [
    "items"
   ]
  },
  {
   "cell_type": "code",
   "execution_count": null,
   "id": "f932db8f",
   "metadata": {},
   "outputs": [],
   "source": [
    "\n",
    "for e, item in enumerate(items, 1):\n",
    "    print(f\"{e} : {item.text}\")"
   ]
  },
  {
   "cell_type": "code",
   "execution_count": null,
   "id": "c9ec9983",
   "metadata": {},
   "outputs": [],
   "source": [
    "len(items)"
   ]
  },
  {
   "cell_type": "markdown",
   "id": "6db36bf8",
   "metadata": {},
   "source": [
    "# 실제 크롤링 작업"
   ]
  },
  {
   "cell_type": "code",
   "execution_count": null,
   "id": "d562eb09",
   "metadata": {
    "scrolled": true
   },
   "outputs": [],
   "source": [
    "data = []\n",
    "for i in range(1,300):\n",
    "    \n",
    "    driver = webdriver.Chrome()\n",
    "\n",
    "    driver.get(\"https://kpcdigital.modoo.at/?link=dprleu4q&page=\"+str(i))\n",
    "    \n",
    "\n",
    "    time.sleep(1)\n",
    "\n",
    "    html = driver.page_source\n",
    "\n",
    "    soup = BeautifulSoup(html, \"html.parser\")\n",
    "    items = soup.select('.tit')\n",
    "    \n",
    "    for j in range(8):\n",
    "        data.append(items[j].text)\n",
    "    print( i, '번째 페이지' )"
   ]
  },
  {
   "cell_type": "code",
   "execution_count": null,
   "id": "bc40bcd4",
   "metadata": {},
   "outputs": [],
   "source": [
    "s_data = pd.DataFrame({'value' : data })"
   ]
  },
  {
   "cell_type": "code",
   "execution_count": null,
   "id": "1ce03b2b",
   "metadata": {},
   "outputs": [],
   "source": [
    "s_data.to_csv('C:/Users/user/Desktop/Python/crawlingdata.csv',index = False)"
   ]
  },
  {
   "cell_type": "code",
   "execution_count": null,
   "id": "5abe762e",
   "metadata": {},
   "outputs": [],
   "source": [
    "for e, item in enumerate(items, 1):\n",
    "    print(f\"{e} : {item.text}\")"
   ]
  },
  {
   "cell_type": "code",
   "execution_count": null,
   "id": "4afe7f70",
   "metadata": {},
   "outputs": [],
   "source": [
    "items[1].text"
   ]
  },
  {
   "cell_type": "code",
   "execution_count": null,
   "id": "54eb5aa9",
   "metadata": {},
   "outputs": [],
   "source": [
    "aa = pd.read_csv('C:/Users/user/Desktop/Python/crawlingdata.csv')"
   ]
  },
  {
   "cell_type": "code",
   "execution_count": null,
   "id": "3e110842",
   "metadata": {},
   "outputs": [],
   "source": [
    "aa"
   ]
  },
  {
   "cell_type": "code",
   "execution_count": null,
   "id": "545e1fb0",
   "metadata": {},
   "outputs": [],
   "source": []
  }
 ],
 "metadata": {
  "kernelspec": {
   "display_name": "Python 3 (ipykernel)",
   "language": "python",
   "name": "python3"
  },
  "language_info": {
   "codemirror_mode": {
    "name": "ipython",
    "version": 3
   },
   "file_extension": ".py",
   "mimetype": "text/x-python",
   "name": "python",
   "nbconvert_exporter": "python",
   "pygments_lexer": "ipython3",
   "version": "3.10.9"
  }
 },
 "nbformat": 4,
 "nbformat_minor": 5
}
